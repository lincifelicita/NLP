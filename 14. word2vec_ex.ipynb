{
  "cells": [
    {
      "cell_type": "code",
      "execution_count": null,
      "metadata": {
        "id": "vVD0eP3ktYFh"
      },
      "outputs": [],
      "source": [
        "import nltk\n",
        "\n",
        "from gensim.models import Word2Vec\n",
        "from nltk.corpus import stopwords\n",
        "\n",
        "import re"
      ]
    },
    {
      "cell_type": "code",
      "execution_count": null,
      "metadata": {
        "id": "kHngBWoStYFn"
      },
      "outputs": [],
      "source": [
        "paragraph = \"\"\"I have three visions for India. In 3000 years of our history, people from all over \n",
        "               the world have come and invaded us, captured our lands, conquered our minds. \n",
        "               From Alexander onwards, the Greeks, the Turks, the Moguls, the Portuguese, the British,\n",
        "               the French, the Dutch, all of them came and looted us, took over what was ours. \n",
        "               Yet we have not done this to any other nation. We have not conquered anyone. \n",
        "               We have not grabbed their land, their culture, \n",
        "               their history and tried to enforce our way of life on them. \n",
        "               Why? Because we respect the freedom of others.That is why my \n",
        "               first vision is that of freedom. I believe that India got its first vision of \n",
        "               this in 1857, when we started the War of Independence. It is this freedom that\n",
        "               we must protect and nurture and build on. If we are not free, no one will respect us.\n",
        "               My second vision for India’s development. For fifty years we have been a developing nation.\n",
        "               It is time we see ourselves as a developed nation. We are among the top 5 nations of the world\n",
        "               in terms of GDP. We have a 10 percent growth rate in most areas. Our poverty levels are falling.\n",
        "               Our achievements are being globally recognised today. Yet we lack the self-confidence to\n",
        "               see ourselves as a developed nation, self-reliant and self-assured. Isn’t this incorrect?\n",
        "               I have a third vision. India must stand up to the world. Because I believe that unless India \n",
        "               stands up to the world, no one will respect us. Only strength respects strength. We must be \n",
        "               strong not only as a military power but also as an economic power. Both must go hand-in-hand. \n",
        "               My good fortune was to have worked with three great minds. Dr. Vikram Sarabhai of the Dept. of \n",
        "               space, Professor Satish Dhawan, who succeeded him and Dr. Brahm Prakash, father of nuclear material.\n",
        "               I was lucky to have worked with all three of them closely and consider this the great opportunity of my life. \n",
        "               I see four milestones in my career\"\"\""
      ]
    },
    {
      "cell_type": "code",
      "execution_count": null,
      "metadata": {
        "id": "eSFVAYWFtYFo",
        "colab": {
          "base_uri": "https://localhost:8080/"
        },
        "outputId": "5de81683-f826-40aa-9818-5ce41bb86fc2"
      },
      "outputs": [
        {
          "output_type": "stream",
          "name": "stdout",
          "text": [
            "I have three visions for India. In 3000 years of our history, people from all over \n",
            "               the world have come and invaded us, captured our lands, conquered our minds. \n",
            "               From Alexander onwards, the Greeks, the Turks, the Moguls, the Portuguese, the British,\n",
            "               the French, the Dutch, all of them came and looted us, took over what was ours. \n",
            "               Yet we have not done this to any other nation. We have not conquered anyone. \n",
            "               We have not grabbed their land, their culture, \n",
            "               their history and tried to enforce our way of life on them. \n",
            "               Why? Because we respect the freedom of others.That is why my \n",
            "               first vision is that of freedom. I believe that India got its first vision of \n",
            "               this in 1857, when we started the War of Independence. It is this freedom that\n",
            "               we must protect and nurture and build on. If we are not free, no one will respect us.\n",
            "               My second vision for India’s development. For fifty years we have been a developing nation.\n",
            "               It is time we see ourselves as a developed nation. We are among the top 5 nations of the world\n",
            "               in terms of GDP. We have a 10 percent growth rate in most areas. Our poverty levels are falling.\n",
            "               Our achievements are being globally recognised today. Yet we lack the self-confidence to\n",
            "               see ourselves as a developed nation, self-reliant and self-assured. Isn’t this incorrect?\n",
            "               I have a third vision. India must stand up to the world. Because I believe that unless India \n",
            "               stands up to the world, no one will respect us. Only strength respects strength. We must be \n",
            "               strong not only as a military power but also as an economic power. Both must go hand-in-hand. \n",
            "               My good fortune was to have worked with three great minds. Dr. Vikram Sarabhai of the Dept. of \n",
            "               space, Professor Satish Dhawan, who succeeded him and Dr. Brahm Prakash, father of nuclear material.\n",
            "               I was lucky to have worked with all three of them closely and consider this the great opportunity of my life. \n",
            "               I see four milestones in my career\n",
            "i have three visions for india. in 3000 years of our history, people from all over the world have come and invaded us, captured our lands, conquered our minds. from alexander onwards, the greeks, the turks, the moguls, the portuguese, the british, the french, the dutch, all of them came and looted us, took over what was ours. yet we have not done this to any other nation. we have not conquered anyone. we have not grabbed their land, their culture, their history and tried to enforce our way of life on them. why? because we respect the freedom of others.that is why my first vision is that of freedom. i believe that india got its first vision of this in 1857, when we started the war of independence. it is this freedom that we must protect and nurture and build on. if we are not free, no one will respect us. my second vision for india’s development. for fifty years we have been a developing nation. it is time we see ourselves as a developed nation. we are among the top 5 nations of the world in terms of gdp. we have a 10 percent growth rate in most areas. our poverty levels are falling. our achievements are being globally recognised today. yet we lack the self-confidence to see ourselves as a developed nation, self-reliant and self-assured. isn’t this incorrect? i have a third vision. india must stand up to the world. because i believe that unless india stands up to the world, no one will respect us. only strength respects strength. we must be strong not only as a military power but also as an economic power. both must go hand-in-hand. my good fortune was to have worked with three great minds. dr. vikram sarabhai of the dept. of space, professor satish dhawan, who succeeded him and dr. brahm prakash, father of nuclear material. i was lucky to have worked with all three of them closely and consider this the great opportunity of my life. i see four milestones in my career\n",
            "i have three visions for india. in years of our history, people from all over the world have come and invaded us, captured our lands, conquered our minds. from alexander onwards, the greeks, the turks, the moguls, the portuguese, the british, the french, the dutch, all of them came and looted us, took over what was ours. yet we have not done this to any other nation. we have not conquered anyone. we have not grabbed their land, their culture, their history and tried to enforce our way of life on them. why? because we respect the freedom of others.that is why my first vision is that of freedom. i believe that india got its first vision of this in , when we started the war of independence. it is this freedom that we must protect and nurture and build on. if we are not free, no one will respect us. my second vision for india’s development. for fifty years we have been a developing nation. it is time we see ourselves as a developed nation. we are among the top nations of the world in terms of gdp. we have a percent growth rate in most areas. our poverty levels are falling. our achievements are being globally recognised today. yet we lack the self-confidence to see ourselves as a developed nation, self-reliant and self-assured. isn’t this incorrect? i have a third vision. india must stand up to the world. because i believe that unless india stands up to the world, no one will respect us. only strength respects strength. we must be strong not only as a military power but also as an economic power. both must go hand-in-hand. my good fortune was to have worked with three great minds. dr. vikram sarabhai of the dept. of space, professor satish dhawan, who succeeded him and dr. brahm prakash, father of nuclear material. i was lucky to have worked with all three of them closely and consider this the great opportunity of my life. i see four milestones in my career\n"
          ]
        }
      ],
      "source": [
        "# Preprocessing the data\n",
        "text = re.sub(r'\\[[0-9]*\\]',' ',paragraph)\n",
        "print(text)\n",
        "text = re.sub(r'\\s+',' ',text)\n",
        "text = text.lower()\n",
        "print(text)\n",
        "text = re.sub(r'\\d',' ',text)\n",
        "text = re.sub(r'\\s+',' ',text)\n",
        "print(text)"
      ]
    },
    {
      "cell_type": "code",
      "source": [
        "import nltk\n",
        "nltk.download('punkt')"
      ],
      "metadata": {
        "colab": {
          "base_uri": "https://localhost:8080/"
        },
        "id": "L8VAcgQvtpdc",
        "outputId": "dbcd7349-7b1a-4355-9d86-6f2257d59160"
      },
      "execution_count": null,
      "outputs": [
        {
          "output_type": "stream",
          "name": "stdout",
          "text": [
            "[nltk_data] Downloading package punkt to /root/nltk_data...\n",
            "[nltk_data]   Package punkt is already up-to-date!\n"
          ]
        },
        {
          "output_type": "execute_result",
          "data": {
            "text/plain": [
              "True"
            ]
          },
          "metadata": {},
          "execution_count": 10
        }
      ]
    },
    {
      "cell_type": "code",
      "source": [
        "nltk.download('stopwords')"
      ],
      "metadata": {
        "colab": {
          "base_uri": "https://localhost:8080/"
        },
        "id": "n0NNn-f4twZF",
        "outputId": "7363bbf3-c51c-44a0-9807-cd278d25120a"
      },
      "execution_count": null,
      "outputs": [
        {
          "output_type": "stream",
          "name": "stdout",
          "text": [
            "[nltk_data] Downloading package stopwords to /root/nltk_data...\n",
            "[nltk_data]   Unzipping corpora/stopwords.zip.\n"
          ]
        },
        {
          "output_type": "execute_result",
          "data": {
            "text/plain": [
              "True"
            ]
          },
          "metadata": {},
          "execution_count": 11
        }
      ]
    },
    {
      "cell_type": "code",
      "execution_count": null,
      "metadata": {
        "id": "s_qnFR85tYFp"
      },
      "outputs": [],
      "source": [
        "# Preparing the dataset\n",
        "sentences = nltk.sent_tokenize(text)\n",
        "\n",
        "sentences = [nltk.word_tokenize(sentence) for sentence in sentences]"
      ]
    },
    {
      "cell_type": "code",
      "execution_count": null,
      "metadata": {
        "id": "cTUZO37dtYFq"
      },
      "outputs": [],
      "source": [
        "for i in range(len(sentences)):\n",
        "    sentences[i] = [word for word in sentences[i] if word not in stopwords.words('english')]"
      ]
    },
    {
      "cell_type": "code",
      "source": [
        "# min_count=1: considers only thise words with minimum occurance = 1"
      ],
      "metadata": {
        "id": "Erxuo_lDXNs4"
      },
      "execution_count": null,
      "outputs": []
    },
    {
      "cell_type": "code",
      "execution_count": null,
      "metadata": {
        "id": "gDBZlrzAtYFq"
      },
      "outputs": [],
      "source": [
        "# Training the Word2Vec model\n",
        "model = Word2Vec(sentences, min_count=1)"
      ]
    },
    {
      "cell_type": "code",
      "execution_count": null,
      "metadata": {
        "id": "4QYbbm3xtYFr"
      },
      "outputs": [],
      "source": [
        "# Finding Word Vectors\n",
        "vector = model.wv['war']"
      ]
    },
    {
      "cell_type": "code",
      "execution_count": null,
      "metadata": {
        "colab": {
          "base_uri": "https://localhost:8080/"
        },
        "id": "PChJwfRrtYFr",
        "outputId": "1a6e05a8-e80d-4080-e509-2dc9dfa006c3"
      },
      "outputs": [
        {
          "output_type": "execute_result",
          "data": {
            "text/plain": [
              "array([ 4.1361079e-03,  2.3402139e-03,  1.1764327e-03, -2.6736150e-03,\n",
              "        1.6598074e-03, -3.5721334e-03, -3.0204121e-03,  2.5519959e-03,\n",
              "       -4.4321348e-03,  3.8480563e-03, -2.5385045e-03,  8.2236838e-05,\n",
              "       -3.7140437e-04, -3.3785447e-03, -2.8008011e-03,  1.2251479e-03,\n",
              "       -4.4756853e-03,  4.9146903e-03, -2.6407451e-03, -3.5770328e-03,\n",
              "        2.7126838e-03,  7.1313808e-04,  2.1681227e-03, -1.0950612e-03,\n",
              "       -3.7606722e-03,  3.5918409e-03,  3.0181236e-03, -4.7597229e-03,\n",
              "       -4.6396083e-03, -4.4606468e-03, -9.6196122e-04,  4.8682550e-03,\n",
              "       -1.2267721e-03,  4.8951362e-03,  2.3290904e-03, -7.8023237e-05,\n",
              "        1.5417775e-03, -6.4467918e-04,  3.8256473e-03, -3.2055401e-03,\n",
              "       -6.9093058e-04,  1.0123148e-03,  2.7280205e-03,  4.6347254e-03,\n",
              "       -5.0878542e-04, -4.6506882e-04,  4.6464489e-03, -1.0143056e-03,\n",
              "       -2.5321655e-03,  4.7859587e-03,  5.0645537e-04, -3.5629906e-03,\n",
              "       -1.9827851e-03,  3.7381486e-03, -2.5368293e-03,  3.7710117e-03,\n",
              "       -4.0475815e-03, -4.4323573e-05, -3.8334790e-03,  2.2708788e-03,\n",
              "        2.1252015e-03,  9.9638535e-04, -3.3920936e-03, -3.7738059e-03,\n",
              "       -4.0938174e-03, -2.2074392e-03, -2.5783242e-03,  1.9637514e-03,\n",
              "        1.3777749e-03, -4.0014815e-03,  3.7724213e-03,  1.4084100e-03,\n",
              "       -7.2997333e-05,  1.6835144e-03,  2.0155623e-03, -1.7084486e-03,\n",
              "       -1.9353362e-04,  2.7568212e-03,  2.8589163e-03, -2.8127858e-03,\n",
              "       -2.8185355e-03, -1.7173399e-03,  2.6985535e-03,  2.4885295e-03,\n",
              "        3.2743104e-03,  4.7567678e-03, -4.2759324e-03,  3.4895190e-03,\n",
              "       -3.0457038e-03,  4.7895839e-03,  4.1363942e-03,  4.0867100e-03,\n",
              "       -4.4986727e-03,  2.7921249e-03,  1.5063906e-03,  2.9586891e-03,\n",
              "       -4.0998827e-03, -4.4264570e-03, -4.8675803e-03,  2.1150112e-03],\n",
              "      dtype=float32)"
            ]
          },
          "metadata": {},
          "execution_count": 16
        }
      ],
      "source": [
        "vector"
      ]
    },
    {
      "cell_type": "code",
      "execution_count": null,
      "metadata": {
        "id": "WL0yuhAxtYFt"
      },
      "outputs": [],
      "source": [
        "# Most similar words\n",
        "similar = model.wv.most_similar('vikram')"
      ]
    },
    {
      "cell_type": "code",
      "execution_count": null,
      "metadata": {
        "colab": {
          "base_uri": "https://localhost:8080/"
        },
        "id": "quV9zGODtYFt",
        "outputId": "ff39a706-e447-4327-d1a1-e115643f4c06"
      },
      "outputs": [
        {
          "output_type": "execute_result",
          "data": {
            "text/plain": [
              "[('worked', 0.305667906999588),\n",
              " ('looted', 0.27197325229644775),\n",
              " ('unless', 0.2191126048564911),\n",
              " ('development', 0.20505838096141815),\n",
              " ('lands', 0.17582900822162628),\n",
              " ('lucky', 0.16754654049873352),\n",
              " ('dept', 0.15340866148471832),\n",
              " ('father', 0.15061163902282715),\n",
              " ('material', 0.14952202141284943),\n",
              " ('history', 0.14377155900001526)]"
            ]
          },
          "metadata": {},
          "execution_count": 18
        }
      ],
      "source": [
        "similar"
      ]
    },
    {
      "cell_type": "code",
      "execution_count": null,
      "metadata": {
        "id": "vkn-eHGJtYFu"
      },
      "outputs": [],
      "source": [
        "# Most similar words\n",
        "similar = model.wv.most_similar('freedom')"
      ]
    },
    {
      "cell_type": "code",
      "execution_count": null,
      "metadata": {
        "colab": {
          "base_uri": "https://localhost:8080/"
        },
        "id": "5PzFCqsKtYFu",
        "outputId": "7286cee0-cd6e-41cb-9ab8-82457e1ff629"
      },
      "outputs": [
        {
          "output_type": "execute_result",
          "data": {
            "text/plain": [
              "[('done', 0.20725424587726593),\n",
              " ('career', 0.17607349157333374),\n",
              " ('developed', 0.17275309562683105),\n",
              " ('levels', 0.16679760813713074),\n",
              " ('areas', 0.16667479276657104),\n",
              " ('percent', 0.1584843099117279),\n",
              " ('invaded', 0.153212308883667),\n",
              " ('must', 0.1520080268383026),\n",
              " ('power', 0.14513063430786133),\n",
              " ('onwards', 0.14076825976371765)]"
            ]
          },
          "metadata": {},
          "execution_count": 20
        }
      ],
      "source": [
        "similar"
      ]
    },
    {
      "cell_type": "code",
      "execution_count": null,
      "metadata": {
        "id": "AqsonU7ltYFv",
        "colab": {
          "base_uri": "https://localhost:8080/"
        },
        "outputId": "cc130203-c180-456c-a808-fbf8778e1595"
      },
      "outputs": [
        {
          "output_type": "execute_result",
          "data": {
            "text/plain": [
              "<gensim.models.word2vec.Word2VecVocab at 0x7f5d7f928910>"
            ]
          },
          "metadata": {},
          "execution_count": 28
        }
      ],
      "source": [
        "model.vocabulary"
      ]
    },
    {
      "cell_type": "code",
      "source": [
        "# Disadvatage of this Word2Vec is if we want to find the similar words for some word that is not there in the corpus it will show an error"
      ],
      "metadata": {
        "id": "10flN82cWgj4"
      },
      "execution_count": null,
      "outputs": []
    },
    {
      "cell_type": "code",
      "source": [
        ""
      ],
      "metadata": {
        "id": "cKyb7BZoXJ-X"
      },
      "execution_count": null,
      "outputs": []
    }
  ],
  "metadata": {
    "interpreter": {
      "hash": "97630161a1b63923bdd9a0aa586c344c3f95acdbb7ddd6c880d3dbef6642c2e8"
    },
    "kernelspec": {
      "display_name": "Python 3.9.9 64-bit ('DL': venv)",
      "name": "python3"
    },
    "language_info": {
      "codemirror_mode": {
        "name": "ipython",
        "version": 3
      },
      "file_extension": ".py",
      "mimetype": "text/x-python",
      "name": "python",
      "nbconvert_exporter": "python",
      "pygments_lexer": "ipython3",
      "version": "3.9.9"
    },
    "orig_nbformat": 4,
    "colab": {
      "name": "14_word2vec_ex.ipynb",
      "provenance": [],
      "collapsed_sections": []
    }
  },
  "nbformat": 4,
  "nbformat_minor": 0
}